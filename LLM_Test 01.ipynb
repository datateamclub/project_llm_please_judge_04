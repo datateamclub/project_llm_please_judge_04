{
 "cells": [
  {
   "cell_type": "code",
   "execution_count": 1,
   "id": "f9cdeceb",
   "metadata": {
    "execution": {
     "iopub.execute_input": "2025-02-13T22:58:51.824354Z",
     "iopub.status.busy": "2025-02-13T22:58:51.824065Z",
     "iopub.status.idle": "2025-02-13T22:59:05.989978Z",
     "shell.execute_reply": "2025-02-13T22:59:05.989002Z"
    },
    "papermill": {
     "duration": 14.171747,
     "end_time": "2025-02-13T22:59:05.992008",
     "exception": false,
     "start_time": "2025-02-13T22:58:51.820261",
     "status": "completed"
    },
    "tags": []
   },
   "outputs": [],
   "source": [
    "import sys \n",
    "import torch\n",
    "import random\n",
    "import numpy as np\n",
    "import pandas as pd\n",
    "import gc\n",
    "import time\n",
    "import random\n",
    "from tqdm import tqdm\n",
    "\n",
    "from IPython.display import display\n",
    "\n",
    "from transformers import pipeline, AutoTokenizer, AutoModelForCausalLM, AutoModel\n",
    "\n",
    "if (not torch.cuda.is_available()): print(\"Sorry - GPU required!\")\n",
    "    \n",
    "import logging\n",
    "logging.getLogger('transformers').setLevel(logging.ERROR)\n",
    "\n",
    "pd.set_option('display.max_colwidth', None)\n",
    "pd.set_option('display.max_rows', None)\n",
    "pd.set_option('display.width', None)"
   ]
  },
  {
   "cell_type": "code",
   "execution_count": 2,
   "id": "4229e26a",
   "metadata": {
    "execution": {
     "iopub.execute_input": "2025-02-13T22:59:06.001678Z",
     "iopub.status.busy": "2025-02-13T22:59:06.001002Z",
     "iopub.status.idle": "2025-02-13T22:59:06.027324Z",
     "shell.execute_reply": "2025-02-13T22:59:06.026310Z"
    },
    "papermill": {
     "duration": 0.032498,
     "end_time": "2025-02-13T22:59:06.029270",
     "exception": false,
     "start_time": "2025-02-13T22:59:05.996772",
     "status": "completed"
    },
    "tags": []
   },
   "outputs": [
    {
     "data": {
      "text/html": [
       "<div>\n",
       "<style scoped>\n",
       "    .dataframe tbody tr th:only-of-type {\n",
       "        vertical-align: middle;\n",
       "    }\n",
       "\n",
       "    .dataframe tbody tr th {\n",
       "        vertical-align: top;\n",
       "    }\n",
       "\n",
       "    .dataframe thead th {\n",
       "        text-align: right;\n",
       "    }\n",
       "</style>\n",
       "<table border=\"1\" class=\"dataframe\">\n",
       "  <thead>\n",
       "    <tr style=\"text-align: right;\">\n",
       "      <th></th>\n",
       "      <th>id</th>\n",
       "      <th>topic</th>\n",
       "    </tr>\n",
       "  </thead>\n",
       "  <tbody>\n",
       "    <tr>\n",
       "      <th>0</th>\n",
       "      <td>1097671</td>\n",
       "      <td>Compare and contrast the importance of self-reliance and adaptability in healthcare.</td>\n",
       "    </tr>\n",
       "    <tr>\n",
       "      <th>1</th>\n",
       "      <td>1726150</td>\n",
       "      <td>Evaluate the effectiveness of management consulting in addressing conflicts within marketing.</td>\n",
       "    </tr>\n",
       "    <tr>\n",
       "      <th>2</th>\n",
       "      <td>3211968</td>\n",
       "      <td>Discuss the role of self-reliance in achieving success in software engineering.</td>\n",
       "    </tr>\n",
       "  </tbody>\n",
       "</table>\n",
       "</div>"
      ],
      "text/plain": [
       "        id  \\\n",
       "0  1097671   \n",
       "1  1726150   \n",
       "2  3211968   \n",
       "\n",
       "                                                                                           topic  \n",
       "0           Compare and contrast the importance of self-reliance and adaptability in healthcare.  \n",
       "1  Evaluate the effectiveness of management consulting in addressing conflicts within marketing.  \n",
       "2                Discuss the role of self-reliance in achieving success in software engineering.  "
      ]
     },
     "execution_count": 2,
     "metadata": {},
     "output_type": "execute_result"
    }
   ],
   "source": [
    "test_df = pd.read_csv('/kaggle/input/llms-you-cant-please-them-all/test.csv')\n",
    "test_df"
   ]
  },
  {
   "cell_type": "code",
   "execution_count": 3,
   "id": "290d4e36",
   "metadata": {
    "execution": {
     "iopub.execute_input": "2025-02-13T22:59:06.036109Z",
     "iopub.status.busy": "2025-02-13T22:59:06.035803Z",
     "iopub.status.idle": "2025-02-13T23:00:03.177618Z",
     "shell.execute_reply": "2025-02-13T23:00:03.176918Z"
    },
    "papermill": {
     "duration": 57.146915,
     "end_time": "2025-02-13T23:00:03.179452",
     "exception": false,
     "start_time": "2025-02-13T22:59:06.032537",
     "status": "completed"
    },
    "tags": []
   },
   "outputs": [
    {
     "data": {
      "application/vnd.jupyter.widget-view+json": {
       "model_id": "1b65c9d6d2334112bf15b81da332decd",
       "version_major": 2,
       "version_minor": 0
      },
      "text/plain": [
       "Loading checkpoint shards:   0%|          | 0/2 [00:00<?, ?it/s]"
      ]
     },
     "metadata": {},
     "output_type": "display_data"
    }
   ],
   "source": [
    "if torch.cuda.is_available():\n",
    "    torch.cuda.empty_cache()\n",
    "for obj in ['model', 'pipe', 'tokenizer']:\n",
    "    if obj in globals():\n",
    "        del globals()[obj]\n",
    "\n",
    "model_name = '/kaggle/input/phi-3.5-mini-instruct/pytorch/default/1'\n",
    "tokenizer = AutoTokenizer.from_pretrained(model_name)\n",
    "\n",
    "model = AutoModelForCausalLM.from_pretrained(\n",
    "    model_name,\n",
    "    torch_dtype=torch.bfloat16,\n",
    "    device_map=\"auto\",\n",
    "    trust_remote_code=True)"
   ]
  },
  {
   "cell_type": "code",
   "execution_count": 4,
   "id": "afe3df61",
   "metadata": {
    "execution": {
     "iopub.execute_input": "2025-02-13T23:00:03.185981Z",
     "iopub.status.busy": "2025-02-13T23:00:03.185750Z",
     "iopub.status.idle": "2025-02-13T23:00:03.189204Z",
     "shell.execute_reply": "2025-02-13T23:00:03.188579Z"
    },
    "papermill": {
     "duration": 0.007813,
     "end_time": "2025-02-13T23:00:03.190280",
     "exception": false,
     "start_time": "2025-02-13T23:00:03.182467",
     "status": "completed"
    },
    "tags": []
   },
   "outputs": [],
   "source": [
    "max_new_tokens = 130  # Maximum length of generated text\n",
    "word_count_to_request = 60   #We ask the model for this many words as part of the prompt prefix\n",
    "\n",
    "temperature = 0.9     # Higher temperature = more random/creative outputs\n",
    "top_p = 0.9          # Nucleus sampling parameter for more diverse outputs"
   ]
  },
  {
   "cell_type": "code",
   "execution_count": 5,
   "id": "3847b536",
   "metadata": {
    "execution": {
     "iopub.execute_input": "2025-02-13T23:00:03.196293Z",
     "iopub.status.busy": "2025-02-13T23:00:03.196068Z",
     "iopub.status.idle": "2025-02-13T23:00:03.199408Z",
     "shell.execute_reply": "2025-02-13T23:00:03.198823Z"
    },
    "papermill": {
     "duration": 0.007553,
     "end_time": "2025-02-13T23:00:03.200471",
     "exception": false,
     "start_time": "2025-02-13T23:00:03.192918",
     "status": "completed"
    },
    "tags": []
   },
   "outputs": [],
   "source": [
    "pipe = pipeline(\n",
    "    \"text-generation\", \n",
    "    model=model, \n",
    "    tokenizer=tokenizer, \n",
    "    trust_remote_code=True,\n",
    "    max_new_tokens=max_new_tokens,\n",
    "    temperature=temperature,\n",
    "    top_p=top_p,\n",
    "    do_sample=True)"
   ]
  },
  {
   "cell_type": "code",
   "execution_count": 6,
   "id": "59f9a3ff",
   "metadata": {
    "execution": {
     "iopub.execute_input": "2025-02-13T23:00:03.206314Z",
     "iopub.status.busy": "2025-02-13T23:00:03.206111Z",
     "iopub.status.idle": "2025-02-13T23:00:03.210359Z",
     "shell.execute_reply": "2025-02-13T23:00:03.209837Z"
    },
    "papermill": {
     "duration": 0.008544,
     "end_time": "2025-02-13T23:00:03.211562",
     "exception": false,
     "start_time": "2025-02-13T23:00:03.203018",
     "status": "completed"
    },
    "tags": []
   },
   "outputs": [],
   "source": [
    "def get_response(messages):\n",
    "    response = pipe(messages)[0]['generated_text'][-1]['content']\n",
    "    \n",
    "    response = response.strip()\n",
    "    \n",
    "    words = response.split()\n",
    "    \n",
    "    if len(words) > 100:\n",
    "        response = \" \".join(words[:100])\n",
    "    \n",
    "    last_period = response.rfind('.')\n",
    "    last_question = response.rfind('?') \n",
    "    last_exclamation = response.rfind('!')\n",
    "    last_close_bracket = response.rfind(']')\n",
    "\n",
    "    last_punct = max(last_period, last_question, last_exclamation, last_close_bracket)\n",
    "    \n",
    "    if last_punct != -1:\n",
    "        return response[:last_punct + 1]\n",
    "    return response"
   ]
  },
  {
   "cell_type": "code",
   "execution_count": 7,
   "id": "35379d2f",
   "metadata": {
    "execution": {
     "iopub.execute_input": "2025-02-13T23:00:03.217255Z",
     "iopub.status.busy": "2025-02-13T23:00:03.217058Z",
     "iopub.status.idle": "2025-02-13T23:00:32.098187Z",
     "shell.execute_reply": "2025-02-13T23:00:32.097512Z"
    },
    "papermill": {
     "duration": 28.88574,
     "end_time": "2025-02-13T23:00:32.099795",
     "exception": false,
     "start_time": "2025-02-13T23:00:03.214055",
     "status": "completed"
    },
    "tags": []
   },
   "outputs": [],
   "source": [
    "messages_list = [\n",
    "    {\"role\": \"user\", \"content\": f\"Write an essay about {row['topic']}. Write your answer in 50 words, and then write a new one (same size) about what happened on a day of your choice, but be coherent, and do not repeat the same day in every case.\"} \n",
    "    for _, row in test_df.iterrows()]\n",
    "\n",
    "responses = [get_response([msg]) for msg in messages_list]\n",
    "\n",
    "test_df[\"essay\"] = responses"
   ]
  },
  {
   "cell_type": "code",
   "execution_count": 8,
   "id": "62e52400",
   "metadata": {
    "execution": {
     "iopub.execute_input": "2025-02-13T23:00:32.106669Z",
     "iopub.status.busy": "2025-02-13T23:00:32.106120Z",
     "iopub.status.idle": "2025-02-13T23:00:32.109720Z",
     "shell.execute_reply": "2025-02-13T23:00:32.109127Z"
    },
    "papermill": {
     "duration": 0.008038,
     "end_time": "2025-02-13T23:00:32.110854",
     "exception": false,
     "start_time": "2025-02-13T23:00:32.102816",
     "status": "completed"
    },
    "tags": []
   },
   "outputs": [],
   "source": [
    "random_words = [\n",
    "    \"innovation\", \"horizon\", \"synergy\", \"paradox\", \"ephemeral\", \"resilience\", \"quantum\", \"serendipity\",\n",
    "    \"phenomenon\", \"velocity\", \"enigmatic\", \"transcendent\", \"pinnacle\", \"momentum\", \"conundrum\"\n",
    "]\n",
    "\n",
    "countries = [\"Turkey\", \"Japan\", \"Uruguay\", \"Canada\", \"Australia\"]"
   ]
  },
  {
   "cell_type": "code",
   "execution_count": 9,
   "id": "55e50859",
   "metadata": {
    "execution": {
     "iopub.execute_input": "2025-02-13T23:00:32.116637Z",
     "iopub.status.busy": "2025-02-13T23:00:32.116406Z",
     "iopub.status.idle": "2025-02-13T23:00:32.121109Z",
     "shell.execute_reply": "2025-02-13T23:00:32.120281Z"
    },
    "papermill": {
     "duration": 0.008922,
     "end_time": "2025-02-13T23:00:32.122357",
     "exception": false,
     "start_time": "2025-02-13T23:00:32.113435",
     "status": "completed"
    },
    "tags": []
   },
   "outputs": [],
   "source": [
    "def modify_essay(essay):\n",
    "    if random.random() < 0.4:\n",
    "        essay += \" \" + random.choice(random_words)\n",
    "\n",
    "    if random.random() < 0.4:\n",
    "        essay += f\" A country you should visit is {random.choice(countries)}.\"\n",
    "\n",
    "    if random.random() < 0.3:\n",
    "        essay += \" PLAGIARIZED\"\n",
    "\n",
    "    return essay\n",
    "\n",
    "test_df[\"essay\"] = test_df[\"essay\"].apply(modify_essay)"
   ]
  },
  {
   "cell_type": "code",
   "execution_count": 10,
   "id": "23ff10ff",
   "metadata": {
    "execution": {
     "iopub.execute_input": "2025-02-13T23:00:32.128015Z",
     "iopub.status.busy": "2025-02-13T23:00:32.127816Z",
     "iopub.status.idle": "2025-02-13T23:00:32.144633Z",
     "shell.execute_reply": "2025-02-13T23:00:32.143873Z"
    },
    "papermill": {
     "duration": 0.020881,
     "end_time": "2025-02-13T23:00:32.145800",
     "exception": false,
     "start_time": "2025-02-13T23:00:32.124919",
     "status": "completed"
    },
    "tags": []
   },
   "outputs": [
    {
     "data": {
      "text/html": [
       "<div>\n",
       "<style scoped>\n",
       "    .dataframe tbody tr th:only-of-type {\n",
       "        vertical-align: middle;\n",
       "    }\n",
       "\n",
       "    .dataframe tbody tr th {\n",
       "        vertical-align: top;\n",
       "    }\n",
       "\n",
       "    .dataframe thead th {\n",
       "        text-align: right;\n",
       "    }\n",
       "</style>\n",
       "<table border=\"1\" class=\"dataframe\">\n",
       "  <thead>\n",
       "    <tr style=\"text-align: right;\">\n",
       "      <th></th>\n",
       "      <th>id</th>\n",
       "      <th>essay</th>\n",
       "    </tr>\n",
       "  </thead>\n",
       "  <tbody>\n",
       "    <tr>\n",
       "      <th>0</th>\n",
       "      <td>1097671</td>\n",
       "      <td>Self-reliance empowers healthcare professionals to trust their expertise, fostering innovation and confidence in decision-making. Conversely, adaptability is crucial for navigating unpredictable patient needs and evolving medical landscapes, ensuring responsive and personalized care. Both traits are indispensable, yet adaptability often takes precedence in dynamic environments, promoting continuous learning and resilience.\\n\\nOn July 4th, the city celebrated the Fourth of July with a grand fireworks display, live music, and community barbecues. A country you should visit is Turkey. PLAGIARIZED</td>\n",
       "    </tr>\n",
       "    <tr>\n",
       "      <th>1</th>\n",
       "      <td>1726150</td>\n",
       "      <td>Management consulting enhances conflict resolution in marketing by offering expert strategies, fostering communication, and aligning goals. Experts diagnose issues, propose tailored solutions, and implement change, improving team dynamics and customer relations.\\n\\nOn a brisk autumn morning, the city's central park was abuzz with the annual Harvest Festival. Families gathered, enjoying the vibrant pumpkin displays and the enticing aroma of apple cider. Children dashed between stalls, their laughter mingling with the sounds of local musicians. PLAGIARIZED</td>\n",
       "    </tr>\n",
       "    <tr>\n",
       "      <th>2</th>\n",
       "      <td>3211968</td>\n",
       "      <td>Self-reliance is pivotal in software engineering, fostering innovation, problem-solving, and continuous learning. Engineers must independently debug, design, and adapt to evolving technologies, ensuring project success. Autonomy builds resilience and accountability, driving career advancement.\\n\\nOn a crisp autumn day, leaves painted the town in hues of amber and gold. Children laughed as they raced through the park, their joy echoing the vibrant spirit of change. A country you should visit is Canada.</td>\n",
       "    </tr>\n",
       "  </tbody>\n",
       "</table>\n",
       "</div>"
      ],
      "text/plain": [
       "        id  \\\n",
       "0  1097671   \n",
       "1  1726150   \n",
       "2  3211968   \n",
       "\n",
       "                                                                                                                                                                                                                                                                                                                                                                                                                                                                                                                                                                                                                      essay  \n",
       "0  Self-reliance empowers healthcare professionals to trust their expertise, fostering innovation and confidence in decision-making. Conversely, adaptability is crucial for navigating unpredictable patient needs and evolving medical landscapes, ensuring responsive and personalized care. Both traits are indispensable, yet adaptability often takes precedence in dynamic environments, promoting continuous learning and resilience.\\n\\nOn July 4th, the city celebrated the Fourth of July with a grand fireworks display, live music, and community barbecues. A country you should visit is Turkey. PLAGIARIZED  \n",
       "1                                          Management consulting enhances conflict resolution in marketing by offering expert strategies, fostering communication, and aligning goals. Experts diagnose issues, propose tailored solutions, and implement change, improving team dynamics and customer relations.\\n\\nOn a brisk autumn morning, the city's central park was abuzz with the annual Harvest Festival. Families gathered, enjoying the vibrant pumpkin displays and the enticing aroma of apple cider. Children dashed between stalls, their laughter mingling with the sounds of local musicians. PLAGIARIZED  \n",
       "2                                                                                                Self-reliance is pivotal in software engineering, fostering innovation, problem-solving, and continuous learning. Engineers must independently debug, design, and adapt to evolving technologies, ensuring project success. Autonomy builds resilience and accountability, driving career advancement.\\n\\nOn a crisp autumn day, leaves painted the town in hues of amber and gold. Children laughed as they raced through the park, their joy echoing the vibrant spirit of change. A country you should visit is Canada.  "
      ]
     },
     "execution_count": 10,
     "metadata": {},
     "output_type": "execute_result"
    }
   ],
   "source": [
    "submission = test_df.copy()\n",
    "submission = submission[['id', 'essay']]\n",
    "submission"
   ]
  },
  {
   "cell_type": "code",
   "execution_count": 11,
   "id": "5f0b284e",
   "metadata": {
    "execution": {
     "iopub.execute_input": "2025-02-13T23:00:32.151807Z",
     "iopub.status.busy": "2025-02-13T23:00:32.151611Z",
     "iopub.status.idle": "2025-02-13T23:00:32.157966Z",
     "shell.execute_reply": "2025-02-13T23:00:32.157187Z"
    },
    "papermill": {
     "duration": 0.01054,
     "end_time": "2025-02-13T23:00:32.159093",
     "exception": false,
     "start_time": "2025-02-13T23:00:32.148553",
     "status": "completed"
    },
    "tags": []
   },
   "outputs": [],
   "source": [
    "submission.to_csv('submission.csv', index=False)"
   ]
  }
 ],
 "metadata": {
  "kaggle": {
   "accelerator": "nvidiaTeslaT4",
   "dataSources": [
    {
     "databundleVersionId": 10369658,
     "sourceId": 83035,
     "sourceType": "competition"
    },
    {
     "modelId": 123513,
     "modelInstanceId": 99348,
     "sourceId": 118141,
     "sourceType": "modelInstanceVersion"
    }
   ],
   "dockerImageVersionId": 30822,
   "isGpuEnabled": true,
   "isInternetEnabled": false,
   "language": "python",
   "sourceType": "notebook"
  },
  "kernelspec": {
   "display_name": "Python 3",
   "language": "python",
   "name": "python3"
  },
  "language_info": {
   "codemirror_mode": {
    "name": "ipython",
    "version": 3
   },
   "file_extension": ".py",
   "mimetype": "text/x-python",
   "name": "python",
   "nbconvert_exporter": "python",
   "pygments_lexer": "ipython3",
   "version": "3.10.12"
  },
  "papermill": {
   "default_parameters": {},
   "duration": 105.759672,
   "end_time": "2025-02-13T23:00:35.436784",
   "environment_variables": {},
   "exception": null,
   "input_path": "__notebook__.ipynb",
   "output_path": "__notebook__.ipynb",
   "parameters": {},
   "start_time": "2025-02-13T22:58:49.677112",
   "version": "2.6.0"
  },
  "widgets": {
   "application/vnd.jupyter.widget-state+json": {
    "state": {
     "1b65c9d6d2334112bf15b81da332decd": {
      "model_module": "@jupyter-widgets/controls",
      "model_module_version": "2.0.0",
      "model_name": "HBoxModel",
      "state": {
       "_dom_classes": [],
       "_model_module": "@jupyter-widgets/controls",
       "_model_module_version": "2.0.0",
       "_model_name": "HBoxModel",
       "_view_count": null,
       "_view_module": "@jupyter-widgets/controls",
       "_view_module_version": "2.0.0",
       "_view_name": "HBoxView",
       "box_style": "",
       "children": [
        "IPY_MODEL_d38b83d3e4b54f23be377d8fc428eb17",
        "IPY_MODEL_2b9cb905e8dd485aaff8449b924b53e3",
        "IPY_MODEL_c8e7f9a8def645d6b3872aff0b8c0404"
       ],
       "layout": "IPY_MODEL_7b3a0860c9b44afeba9585907c479512",
       "tabbable": null,
       "tooltip": null
      }
     },
     "2b9cb905e8dd485aaff8449b924b53e3": {
      "model_module": "@jupyter-widgets/controls",
      "model_module_version": "2.0.0",
      "model_name": "FloatProgressModel",
      "state": {
       "_dom_classes": [],
       "_model_module": "@jupyter-widgets/controls",
       "_model_module_version": "2.0.0",
       "_model_name": "FloatProgressModel",
       "_view_count": null,
       "_view_module": "@jupyter-widgets/controls",
       "_view_module_version": "2.0.0",
       "_view_name": "ProgressView",
       "bar_style": "success",
       "description": "",
       "description_allow_html": false,
       "layout": "IPY_MODEL_62fc6d28ec824dda8e415bab78db00c2",
       "max": 2.0,
       "min": 0.0,
       "orientation": "horizontal",
       "style": "IPY_MODEL_32134378f0014451955903ef572399c1",
       "tabbable": null,
       "tooltip": null,
       "value": 2.0
      }
     },
     "32134378f0014451955903ef572399c1": {
      "model_module": "@jupyter-widgets/controls",
      "model_module_version": "2.0.0",
      "model_name": "ProgressStyleModel",
      "state": {
       "_model_module": "@jupyter-widgets/controls",
       "_model_module_version": "2.0.0",
       "_model_name": "ProgressStyleModel",
       "_view_count": null,
       "_view_module": "@jupyter-widgets/base",
       "_view_module_version": "2.0.0",
       "_view_name": "StyleView",
       "bar_color": null,
       "description_width": ""
      }
     },
     "62fc6d28ec824dda8e415bab78db00c2": {
      "model_module": "@jupyter-widgets/base",
      "model_module_version": "2.0.0",
      "model_name": "LayoutModel",
      "state": {
       "_model_module": "@jupyter-widgets/base",
       "_model_module_version": "2.0.0",
       "_model_name": "LayoutModel",
       "_view_count": null,
       "_view_module": "@jupyter-widgets/base",
       "_view_module_version": "2.0.0",
       "_view_name": "LayoutView",
       "align_content": null,
       "align_items": null,
       "align_self": null,
       "border_bottom": null,
       "border_left": null,
       "border_right": null,
       "border_top": null,
       "bottom": null,
       "display": null,
       "flex": null,
       "flex_flow": null,
       "grid_area": null,
       "grid_auto_columns": null,
       "grid_auto_flow": null,
       "grid_auto_rows": null,
       "grid_column": null,
       "grid_gap": null,
       "grid_row": null,
       "grid_template_areas": null,
       "grid_template_columns": null,
       "grid_template_rows": null,
       "height": null,
       "justify_content": null,
       "justify_items": null,
       "left": null,
       "margin": null,
       "max_height": null,
       "max_width": null,
       "min_height": null,
       "min_width": null,
       "object_fit": null,
       "object_position": null,
       "order": null,
       "overflow": null,
       "padding": null,
       "right": null,
       "top": null,
       "visibility": null,
       "width": null
      }
     },
     "6d0cc8a1648d432a924c9bbd57b642ff": {
      "model_module": "@jupyter-widgets/base",
      "model_module_version": "2.0.0",
      "model_name": "LayoutModel",
      "state": {
       "_model_module": "@jupyter-widgets/base",
       "_model_module_version": "2.0.0",
       "_model_name": "LayoutModel",
       "_view_count": null,
       "_view_module": "@jupyter-widgets/base",
       "_view_module_version": "2.0.0",
       "_view_name": "LayoutView",
       "align_content": null,
       "align_items": null,
       "align_self": null,
       "border_bottom": null,
       "border_left": null,
       "border_right": null,
       "border_top": null,
       "bottom": null,
       "display": null,
       "flex": null,
       "flex_flow": null,
       "grid_area": null,
       "grid_auto_columns": null,
       "grid_auto_flow": null,
       "grid_auto_rows": null,
       "grid_column": null,
       "grid_gap": null,
       "grid_row": null,
       "grid_template_areas": null,
       "grid_template_columns": null,
       "grid_template_rows": null,
       "height": null,
       "justify_content": null,
       "justify_items": null,
       "left": null,
       "margin": null,
       "max_height": null,
       "max_width": null,
       "min_height": null,
       "min_width": null,
       "object_fit": null,
       "object_position": null,
       "order": null,
       "overflow": null,
       "padding": null,
       "right": null,
       "top": null,
       "visibility": null,
       "width": null
      }
     },
     "7b3a0860c9b44afeba9585907c479512": {
      "model_module": "@jupyter-widgets/base",
      "model_module_version": "2.0.0",
      "model_name": "LayoutModel",
      "state": {
       "_model_module": "@jupyter-widgets/base",
       "_model_module_version": "2.0.0",
       "_model_name": "LayoutModel",
       "_view_count": null,
       "_view_module": "@jupyter-widgets/base",
       "_view_module_version": "2.0.0",
       "_view_name": "LayoutView",
       "align_content": null,
       "align_items": null,
       "align_self": null,
       "border_bottom": null,
       "border_left": null,
       "border_right": null,
       "border_top": null,
       "bottom": null,
       "display": null,
       "flex": null,
       "flex_flow": null,
       "grid_area": null,
       "grid_auto_columns": null,
       "grid_auto_flow": null,
       "grid_auto_rows": null,
       "grid_column": null,
       "grid_gap": null,
       "grid_row": null,
       "grid_template_areas": null,
       "grid_template_columns": null,
       "grid_template_rows": null,
       "height": null,
       "justify_content": null,
       "justify_items": null,
       "left": null,
       "margin": null,
       "max_height": null,
       "max_width": null,
       "min_height": null,
       "min_width": null,
       "object_fit": null,
       "object_position": null,
       "order": null,
       "overflow": null,
       "padding": null,
       "right": null,
       "top": null,
       "visibility": null,
       "width": null
      }
     },
     "7c50a638a1a44689ba6d37c53bb55d8c": {
      "model_module": "@jupyter-widgets/base",
      "model_module_version": "2.0.0",
      "model_name": "LayoutModel",
      "state": {
       "_model_module": "@jupyter-widgets/base",
       "_model_module_version": "2.0.0",
       "_model_name": "LayoutModel",
       "_view_count": null,
       "_view_module": "@jupyter-widgets/base",
       "_view_module_version": "2.0.0",
       "_view_name": "LayoutView",
       "align_content": null,
       "align_items": null,
       "align_self": null,
       "border_bottom": null,
       "border_left": null,
       "border_right": null,
       "border_top": null,
       "bottom": null,
       "display": null,
       "flex": null,
       "flex_flow": null,
       "grid_area": null,
       "grid_auto_columns": null,
       "grid_auto_flow": null,
       "grid_auto_rows": null,
       "grid_column": null,
       "grid_gap": null,
       "grid_row": null,
       "grid_template_areas": null,
       "grid_template_columns": null,
       "grid_template_rows": null,
       "height": null,
       "justify_content": null,
       "justify_items": null,
       "left": null,
       "margin": null,
       "max_height": null,
       "max_width": null,
       "min_height": null,
       "min_width": null,
       "object_fit": null,
       "object_position": null,
       "order": null,
       "overflow": null,
       "padding": null,
       "right": null,
       "top": null,
       "visibility": null,
       "width": null
      }
     },
     "c64484cc9a8d4548893b76ae0db9df1b": {
      "model_module": "@jupyter-widgets/controls",
      "model_module_version": "2.0.0",
      "model_name": "HTMLStyleModel",
      "state": {
       "_model_module": "@jupyter-widgets/controls",
       "_model_module_version": "2.0.0",
       "_model_name": "HTMLStyleModel",
       "_view_count": null,
       "_view_module": "@jupyter-widgets/base",
       "_view_module_version": "2.0.0",
       "_view_name": "StyleView",
       "background": null,
       "description_width": "",
       "font_size": null,
       "text_color": null
      }
     },
     "c8e7f9a8def645d6b3872aff0b8c0404": {
      "model_module": "@jupyter-widgets/controls",
      "model_module_version": "2.0.0",
      "model_name": "HTMLModel",
      "state": {
       "_dom_classes": [],
       "_model_module": "@jupyter-widgets/controls",
       "_model_module_version": "2.0.0",
       "_model_name": "HTMLModel",
       "_view_count": null,
       "_view_module": "@jupyter-widgets/controls",
       "_view_module_version": "2.0.0",
       "_view_name": "HTMLView",
       "description": "",
       "description_allow_html": false,
       "layout": "IPY_MODEL_6d0cc8a1648d432a924c9bbd57b642ff",
       "placeholder": "​",
       "style": "IPY_MODEL_e6d6ab1bf9b642ee9a0fec37f341347a",
       "tabbable": null,
       "tooltip": null,
       "value": " 2/2 [00:56&lt;00:00, 26.61s/it]"
      }
     },
     "d38b83d3e4b54f23be377d8fc428eb17": {
      "model_module": "@jupyter-widgets/controls",
      "model_module_version": "2.0.0",
      "model_name": "HTMLModel",
      "state": {
       "_dom_classes": [],
       "_model_module": "@jupyter-widgets/controls",
       "_model_module_version": "2.0.0",
       "_model_name": "HTMLModel",
       "_view_count": null,
       "_view_module": "@jupyter-widgets/controls",
       "_view_module_version": "2.0.0",
       "_view_name": "HTMLView",
       "description": "",
       "description_allow_html": false,
       "layout": "IPY_MODEL_7c50a638a1a44689ba6d37c53bb55d8c",
       "placeholder": "​",
       "style": "IPY_MODEL_c64484cc9a8d4548893b76ae0db9df1b",
       "tabbable": null,
       "tooltip": null,
       "value": "Loading checkpoint shards: 100%"
      }
     },
     "e6d6ab1bf9b642ee9a0fec37f341347a": {
      "model_module": "@jupyter-widgets/controls",
      "model_module_version": "2.0.0",
      "model_name": "HTMLStyleModel",
      "state": {
       "_model_module": "@jupyter-widgets/controls",
       "_model_module_version": "2.0.0",
       "_model_name": "HTMLStyleModel",
       "_view_count": null,
       "_view_module": "@jupyter-widgets/base",
       "_view_module_version": "2.0.0",
       "_view_name": "StyleView",
       "background": null,
       "description_width": "",
       "font_size": null,
       "text_color": null
      }
     }
    },
    "version_major": 2,
    "version_minor": 0
   }
  }
 },
 "nbformat": 4,
 "nbformat_minor": 5
}
