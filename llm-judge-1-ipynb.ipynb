{
 "cells": [
  {
   "cell_type": "markdown",
   "id": "f85bddda",
   "metadata": {
    "papermill": {
     "duration": 0.003831,
     "end_time": "2025-01-09T23:06:03.371504",
     "exception": false,
     "start_time": "2025-01-09T23:06:03.367673",
     "status": "completed"
    },
    "tags": []
   },
   "source": [
    "### LLMs - You Can't Please Them All\n",
    "Are LLM-judges robust to adversarial inputs?"
   ]
  },
  {
   "cell_type": "markdown",
   "id": "600d0a38",
   "metadata": {
    "papermill": {
     "duration": 0.002767,
     "end_time": "2025-01-09T23:06:03.377514",
     "exception": false,
     "start_time": "2025-01-09T23:06:03.374747",
     "status": "completed"
    },
    "tags": []
   },
   "source": [
    "The goal of this competition is to maximize disagreement between three individual LLM-judges, while using the English language, and without repeating yourself. Each row in your submission.csv file should contain an essay with a length of approximately 100 words. \n",
    "\n",
    "Our unpublished LLM-as-a-judge system will return an average of three quality scores for every essay that you submit (avg_q). Quality scores will be floats in the range [0,9]. The grading system will also return measurements of both horizontal variance (avg_h) and vertical variance (min_v). Horizontal variance is defined as the variance between the scores returned by the 3 judges for a single essay, while vertical variance is defined as the variance between the scores returned by a single judge across every essay. These scores will then be combined with English language confidence scores (avg_e) and sequence similarity scores (avg_s) to penalize non-English and repetitive approaches. English scores and similarity scores are both floats in the range [0,1]."
   ]
  },
  {
   "cell_type": "markdown",
   "id": "d4ac4e21",
   "metadata": {
    "papermill": {
     "duration": 0.002529,
     "end_time": "2025-01-09T23:06:03.383035",
     "exception": false,
     "start_time": "2025-01-09T23:06:03.380506",
     "status": "completed"
    },
    "tags": []
   },
   "source": [
    "#### Import Libraries"
   ]
  },
  {
   "cell_type": "code",
   "execution_count": 1,
   "id": "8e6fbc67",
   "metadata": {
    "execution": {
     "iopub.execute_input": "2025-01-09T23:06:03.390011Z",
     "iopub.status.busy": "2025-01-09T23:06:03.389611Z",
     "iopub.status.idle": "2025-01-09T23:06:18.738376Z",
     "shell.execute_reply": "2025-01-09T23:06:18.737387Z"
    },
    "papermill": {
     "duration": 15.354344,
     "end_time": "2025-01-09T23:06:18.740079",
     "exception": false,
     "start_time": "2025-01-09T23:06:03.385735",
     "status": "completed"
    },
    "tags": []
   },
   "outputs": [],
   "source": [
    "import pandas as pd\n",
    "import sys \n",
    "import torch\n",
    "import random\n",
    "import numpy as np\n",
    "import pandas as pd\n",
    "import gc\n",
    "import time\n",
    "import random\n",
    "from tqdm import tqdm\n",
    "import os\n",
    "\n",
    "from IPython.display import display\n",
    "\n",
    "from transformers import pipeline, AutoTokenizer, AutoModelForCausalLM, AutoModel\n",
    "\n",
    "if (not torch.cuda.is_available()): print(\"Sorry - GPU required!\")\n",
    "    \n",
    "import logging\n",
    "logging.getLogger('transformers').setLevel(logging.ERROR)\n",
    "\n",
    "pd.set_option('display.max_colwidth', None)\n",
    "pd.set_option('display.max_rows', None)\n",
    "pd.set_option('display.width', None)"
   ]
  },
  {
   "cell_type": "markdown",
   "id": "74f17d85",
   "metadata": {
    "papermill": {
     "duration": 0.002753,
     "end_time": "2025-01-09T23:06:18.746348",
     "exception": false,
     "start_time": "2025-01-09T23:06:18.743595",
     "status": "completed"
    },
    "tags": []
   },
   "source": [
    "### Data"
   ]
  },
  {
   "cell_type": "code",
   "execution_count": 2,
   "id": "36dfb787",
   "metadata": {
    "execution": {
     "iopub.execute_input": "2025-01-09T23:06:18.753679Z",
     "iopub.status.busy": "2025-01-09T23:06:18.753071Z",
     "iopub.status.idle": "2025-01-09T23:06:18.773342Z",
     "shell.execute_reply": "2025-01-09T23:06:18.772341Z"
    },
    "papermill": {
     "duration": 0.025624,
     "end_time": "2025-01-09T23:06:18.774832",
     "exception": false,
     "start_time": "2025-01-09T23:06:18.749208",
     "status": "completed"
    },
    "tags": []
   },
   "outputs": [],
   "source": [
    "test_df = pd.read_csv(\"/kaggle/input/llms-you-cant-please-them-all/test.csv\")\n",
    "sample = pd.read_csv(\"/kaggle/input/llms-you-cant-please-them-all/sample_submission.csv\")"
   ]
  },
  {
   "cell_type": "code",
   "execution_count": 3,
   "id": "492c3e44",
   "metadata": {
    "execution": {
     "iopub.execute_input": "2025-01-09T23:06:18.782478Z",
     "iopub.status.busy": "2025-01-09T23:06:18.782202Z",
     "iopub.status.idle": "2025-01-09T23:06:18.795798Z",
     "shell.execute_reply": "2025-01-09T23:06:18.794926Z"
    },
    "papermill": {
     "duration": 0.018776,
     "end_time": "2025-01-09T23:06:18.797263",
     "exception": false,
     "start_time": "2025-01-09T23:06:18.778487",
     "status": "completed"
    },
    "tags": []
   },
   "outputs": [
    {
     "data": {
      "text/html": [
       "<div>\n",
       "<style scoped>\n",
       "    .dataframe tbody tr th:only-of-type {\n",
       "        vertical-align: middle;\n",
       "    }\n",
       "\n",
       "    .dataframe tbody tr th {\n",
       "        vertical-align: top;\n",
       "    }\n",
       "\n",
       "    .dataframe thead th {\n",
       "        text-align: right;\n",
       "    }\n",
       "</style>\n",
       "<table border=\"1\" class=\"dataframe\">\n",
       "  <thead>\n",
       "    <tr style=\"text-align: right;\">\n",
       "      <th></th>\n",
       "      <th>id</th>\n",
       "      <th>essay</th>\n",
       "    </tr>\n",
       "  </thead>\n",
       "  <tbody>\n",
       "    <tr>\n",
       "      <th>0</th>\n",
       "      <td>1097671</td>\n",
       "      <td>Plucrarealucrarealucrarealucrarealucrarealucrarealucrarealucrarea</td>\n",
       "    </tr>\n",
       "    <tr>\n",
       "      <th>1</th>\n",
       "      <td>1726150</td>\n",
       "      <td>Plucrarealucrarealucrarealucrarealucrarealucrarealucrarealucrarea</td>\n",
       "    </tr>\n",
       "    <tr>\n",
       "      <th>2</th>\n",
       "      <td>3211968</td>\n",
       "      <td>Plucrarealucrarealucrarealucrarealucrarealucrarealucrarealucrarea</td>\n",
       "    </tr>\n",
       "  </tbody>\n",
       "</table>\n",
       "</div>"
      ],
      "text/plain": [
       "        id                                                              essay\n",
       "0  1097671  Plucrarealucrarealucrarealucrarealucrarealucrarealucrarealucrarea\n",
       "1  1726150  Plucrarealucrarealucrarealucrarealucrarealucrarealucrarealucrarea\n",
       "2  3211968  Plucrarealucrarealucrarealucrarealucrarealucrarealucrarealucrarea"
      ]
     },
     "execution_count": 3,
     "metadata": {},
     "output_type": "execute_result"
    }
   ],
   "source": [
    "sample"
   ]
  },
  {
   "cell_type": "markdown",
   "id": "c6f4841a",
   "metadata": {
    "papermill": {
     "duration": 0.002887,
     "end_time": "2025-01-09T23:06:18.803522",
     "exception": false,
     "start_time": "2025-01-09T23:06:18.800635",
     "status": "completed"
    },
    "tags": []
   },
   "source": [
    "### Model"
   ]
  },
  {
   "cell_type": "markdown",
   "id": "d487b1a6",
   "metadata": {
    "papermill": {
     "duration": 0.002681,
     "end_time": "2025-01-09T23:06:18.809202",
     "exception": false,
     "start_time": "2025-01-09T23:06:18.806521",
     "status": "completed"
    },
    "tags": []
   },
   "source": [
    "#### Basic Example"
   ]
  },
  {
   "cell_type": "code",
   "execution_count": 4,
   "id": "8b1c60a3",
   "metadata": {
    "execution": {
     "iopub.execute_input": "2025-01-09T23:06:18.816183Z",
     "iopub.status.busy": "2025-01-09T23:06:18.815861Z",
     "iopub.status.idle": "2025-01-09T23:07:21.230509Z",
     "shell.execute_reply": "2025-01-09T23:07:21.229455Z"
    },
    "papermill": {
     "duration": 62.419677,
     "end_time": "2025-01-09T23:07:21.231914",
     "exception": false,
     "start_time": "2025-01-09T23:06:18.812237",
     "status": "completed"
    },
    "tags": []
   },
   "outputs": [
    {
     "data": {
      "application/vnd.jupyter.widget-view+json": {
       "model_id": "b696167aeee64079a02f8a0e755a57e9",
       "version_major": 2,
       "version_minor": 0
      },
      "text/plain": [
       "Loading checkpoint shards:   0%|          | 0/2 [00:00<?, ?it/s]"
      ]
     },
     "metadata": {},
     "output_type": "display_data"
    },
    {
     "name": "stderr",
     "output_type": "stream",
     "text": [
      "/usr/local/lib/python3.10/dist-packages/transformers/generation/utils.py:1258: UserWarning: Using the model-agnostic default `max_length` (=20) to control the generation length. We recommend setting `max_new_tokens` to control the maximum length of the generation.\n",
      "  warnings.warn(\n",
      "/usr/local/lib/python3.10/dist-packages/transformers/generation/utils.py:1885: UserWarning: You are calling .generate() with the `input_ids` being on a device type different than your model's device. `input_ids` is on cpu, whereas the model is on cuda. You may experience unexpected behaviors or slower generation. Please make sure that you have put `input_ids` to the correct device by calling for example input_ids = input_ids.to('cuda') before running `.generate()`.\n",
      "  warnings.warn(\n"
     ]
    },
    {
     "name": "stdout",
     "output_type": "stream",
     "text": [
      "<bos>Compare and contrast the importance of self-reliance and adaptability in healthcare.\n",
      "\n",
      "A 10\n"
     ]
    }
   ],
   "source": [
    "tokenizer = AutoTokenizer.from_pretrained(\"/kaggle/input/gemma/transformers/2b/2\")\n",
    "model = AutoModelForCausalLM.from_pretrained(\n",
    "    \"/kaggle/input/gemma/transformers/2b/2\",\n",
    "    device_map=\"auto\",\n",
    "    torch_dtype=torch.bfloat16\n",
    ")\n",
    "\n",
    "input_text = \"Compare and contrast the importance of self-reliance and adaptability in healthcare.\"\n",
    "input_ids = tokenizer(input_text, return_tensors=\"pt\")\n",
    "\n",
    "outputs = model.generate(**input_ids)\n",
    "print(tokenizer.decode(outputs[0]))"
   ]
  },
  {
   "cell_type": "markdown",
   "id": "a33dcf15",
   "metadata": {
    "execution": {
     "iopub.execute_input": "2025-01-09T22:39:33.471103Z",
     "iopub.status.busy": "2025-01-09T22:39:33.470792Z",
     "iopub.status.idle": "2025-01-09T22:39:33.475102Z",
     "shell.execute_reply": "2025-01-09T22:39:33.473996Z",
     "shell.execute_reply.started": "2025-01-09T22:39:33.471080Z"
    },
    "papermill": {
     "duration": 0.003323,
     "end_time": "2025-01-09T23:07:21.238942",
     "exception": false,
     "start_time": "2025-01-09T23:07:21.235619",
     "status": "completed"
    },
    "tags": []
   },
   "source": [
    "### Multiple tests"
   ]
  },
  {
   "cell_type": "code",
   "execution_count": 5,
   "id": "688debd0",
   "metadata": {
    "execution": {
     "iopub.execute_input": "2025-01-09T23:07:21.246139Z",
     "iopub.status.busy": "2025-01-09T23:07:21.245861Z",
     "iopub.status.idle": "2025-01-09T23:07:21.251092Z",
     "shell.execute_reply": "2025-01-09T23:07:21.250229Z"
    },
    "papermill": {
     "duration": 0.010448,
     "end_time": "2025-01-09T23:07:21.252552",
     "exception": false,
     "start_time": "2025-01-09T23:07:21.242104",
     "status": "completed"
    },
    "tags": []
   },
   "outputs": [],
   "source": [
    "def generate_model(model_name,max_new_tokens , word_count_to_request, temperature, top_p  ): \n",
    "    tokenizer = AutoTokenizer.from_pretrained(model_name)\n",
    "    model = AutoModelForCausalLM.from_pretrained(\n",
    "                                                model_name,\n",
    "                                                device_map=\"auto\",\n",
    "                                                torch_dtype=torch.bfloat16, \n",
    "                                                trust_remote_code=True ### ???\n",
    "                                                )\n",
    "    pipe = pipeline(\n",
    "                    \"text-generation\", \n",
    "                    model=model, \n",
    "                    tokenizer=tokenizer, \n",
    "                    trust_remote_code=True,\n",
    "                    max_new_tokens=max_new_tokens,\n",
    "                    temperature=temperature,\n",
    "                    top_p=top_p,\n",
    "                    do_sample=True \n",
    "                )\n",
    "    return pipe \n",
    "\n",
    "def generate_essay(prompt, topic, pipe): \n",
    "    final_prompt = f'{prompt} {topic}'\n",
    "    response = pipe(final_prompt)\n",
    "    essay = response[0]['generated_text'].split('Answer:\\n', 1)[1]\n",
    "    print(final_prompt)\n",
    "    print(essay)\n",
    "   ## return essay\n",
    "    "
   ]
  },
  {
   "cell_type": "code",
   "execution_count": 6,
   "id": "99b12fd0",
   "metadata": {
    "execution": {
     "iopub.execute_input": "2025-01-09T23:07:21.261224Z",
     "iopub.status.busy": "2025-01-09T23:07:21.260948Z",
     "iopub.status.idle": "2025-01-09T23:07:25.033903Z",
     "shell.execute_reply": "2025-01-09T23:07:25.033099Z"
    },
    "papermill": {
     "duration": 3.778526,
     "end_time": "2025-01-09T23:07:25.035652",
     "exception": false,
     "start_time": "2025-01-09T23:07:21.257126",
     "status": "completed"
    },
    "tags": []
   },
   "outputs": [
    {
     "data": {
      "application/vnd.jupyter.widget-view+json": {
       "model_id": "c3126f2f28914a429fe8b909c23b4436",
       "version_major": 2,
       "version_minor": 0
      },
      "text/plain": [
       "Loading checkpoint shards:   0%|          | 0/2 [00:00<?, ?it/s]"
      ]
     },
     "metadata": {},
     "output_type": "display_data"
    }
   ],
   "source": [
    "pipe = generate_model(\"/kaggle/input/gemma/transformers/2b/2\", \n",
    "                      max_new_tokens = 100, \n",
    "                      word_count_to_request= 60, \n",
    "                      temperature = 0.8, \n",
    "                      top_p = 0.8)"
   ]
  },
  {
   "cell_type": "code",
   "execution_count": 7,
   "id": "22c01b2d",
   "metadata": {
    "execution": {
     "iopub.execute_input": "2025-01-09T23:07:25.044065Z",
     "iopub.status.busy": "2025-01-09T23:07:25.043823Z",
     "iopub.status.idle": "2025-01-09T23:07:25.047562Z",
     "shell.execute_reply": "2025-01-09T23:07:25.046689Z"
    },
    "papermill": {
     "duration": 0.009211,
     "end_time": "2025-01-09T23:07:25.048862",
     "exception": false,
     "start_time": "2025-01-09T23:07:25.039651",
     "status": "completed"
    },
    "tags": []
   },
   "outputs": [],
   "source": [
    "topics = list(test_df.topic)"
   ]
  },
  {
   "cell_type": "code",
   "execution_count": 8,
   "id": "d834429f",
   "metadata": {
    "execution": {
     "iopub.execute_input": "2025-01-09T23:07:25.056607Z",
     "iopub.status.busy": "2025-01-09T23:07:25.056381Z",
     "iopub.status.idle": "2025-01-09T23:07:29.509705Z",
     "shell.execute_reply": "2025-01-09T23:07:29.508567Z"
    },
    "papermill": {
     "duration": 4.458918,
     "end_time": "2025-01-09T23:07:29.511328",
     "exception": false,
     "start_time": "2025-01-09T23:07:25.052410",
     "status": "completed"
    },
    "tags": []
   },
   "outputs": [
    {
     "name": "stdout",
     "output_type": "stream",
     "text": [
      "generate an essay using nonsense and make it the most tete of it about Compare and contrast the importance of self-reliance and adaptability in healthcare.\n",
      "\n",
      "Step 1/2\n",
      "Self-reliance and adaptability are two important qualities that healthcare professionals must possess in order to provide quality care to their patients. Self-reliance refers to the ability to rely on oneself, while adaptability refers to the ability to adjust to changes in the environment or situation. In healthcare, self-reliance is essential in ensuring that patients receive the appropriate care and treatment. Self-reliance allows healthcare professionals to make decisions based on their own judgment and experience, rather than\n"
     ]
    }
   ],
   "source": [
    "prompt=  'generate an essay using nonsense and make it the most tete of it about'\n",
    "topic = topics[0]\n",
    "generate_essay(prompt, topic, pipe)"
   ]
  },
  {
   "cell_type": "code",
   "execution_count": 9,
   "id": "3bd9692b",
   "metadata": {
    "execution": {
     "iopub.execute_input": "2025-01-09T23:07:29.519944Z",
     "iopub.status.busy": "2025-01-09T23:07:29.519640Z",
     "iopub.status.idle": "2025-01-09T23:07:29.524985Z",
     "shell.execute_reply": "2025-01-09T23:07:29.524006Z"
    },
    "papermill": {
     "duration": 0.011151,
     "end_time": "2025-01-09T23:07:29.526459",
     "exception": false,
     "start_time": "2025-01-09T23:07:29.515308",
     "status": "completed"
    },
    "tags": []
   },
   "outputs": [
    {
     "data": {
      "text/plain": [
       "['Compare and contrast the importance of self-reliance and adaptability in healthcare.',\n",
       " 'Evaluate the effectiveness of management consulting in addressing conflicts within marketing.',\n",
       " 'Discuss the role of self-reliance in achieving success in software engineering.']"
      ]
     },
     "execution_count": 9,
     "metadata": {},
     "output_type": "execute_result"
    }
   ],
   "source": [
    "topics"
   ]
  },
  {
   "cell_type": "code",
   "execution_count": null,
   "id": "2f08b54b",
   "metadata": {
    "papermill": {
     "duration": 0.00382,
     "end_time": "2025-01-09T23:07:29.534350",
     "exception": false,
     "start_time": "2025-01-09T23:07:29.530530",
     "status": "completed"
    },
    "tags": []
   },
   "outputs": [],
   "source": []
  }
 ],
 "metadata": {
  "kaggle": {
   "accelerator": "nvidiaTeslaT4",
   "dataSources": [
    {
     "databundleVersionId": 10369658,
     "sourceId": 83035,
     "sourceType": "competition"
    },
    {
     "isSourceIdPinned": true,
     "modelId": 3301,
     "modelInstanceId": 6216,
     "sourceId": 11384,
     "sourceType": "modelInstanceVersion"
    }
   ],
   "dockerImageVersionId": 30822,
   "isGpuEnabled": true,
   "isInternetEnabled": true,
   "language": "python",
   "sourceType": "notebook"
  },
  "kernelspec": {
   "display_name": "Python 3",
   "language": "python",
   "name": "python3"
  },
  "language_info": {
   "codemirror_mode": {
    "name": "ipython",
    "version": 3
   },
   "file_extension": ".py",
   "mimetype": "text/x-python",
   "name": "python",
   "nbconvert_exporter": "python",
   "pygments_lexer": "ipython3",
   "version": "3.10.12"
  },
  "papermill": {
   "default_parameters": {},
   "duration": 91.814545,
   "end_time": "2025-01-09T23:07:32.811138",
   "environment_variables": {},
   "exception": null,
   "input_path": "__notebook__.ipynb",
   "output_path": "__notebook__.ipynb",
   "parameters": {},
   "start_time": "2025-01-09T23:06:00.996593",
   "version": "2.6.0"
  },
  "widgets": {
   "application/vnd.jupyter.widget-state+json": {
    "state": {
     "06d204a9245a4b509088e5eb618d5951": {
      "model_module": "@jupyter-widgets/controls",
      "model_module_version": "2.0.0",
      "model_name": "ProgressStyleModel",
      "state": {
       "_model_module": "@jupyter-widgets/controls",
       "_model_module_version": "2.0.0",
       "_model_name": "ProgressStyleModel",
       "_view_count": null,
       "_view_module": "@jupyter-widgets/base",
       "_view_module_version": "2.0.0",
       "_view_name": "StyleView",
       "bar_color": null,
       "description_width": ""
      }
     },
     "0f326f795f0f4e4fa65d9674e529ac91": {
      "model_module": "@jupyter-widgets/base",
      "model_module_version": "2.0.0",
      "model_name": "LayoutModel",
      "state": {
       "_model_module": "@jupyter-widgets/base",
       "_model_module_version": "2.0.0",
       "_model_name": "LayoutModel",
       "_view_count": null,
       "_view_module": "@jupyter-widgets/base",
       "_view_module_version": "2.0.0",
       "_view_name": "LayoutView",
       "align_content": null,
       "align_items": null,
       "align_self": null,
       "border_bottom": null,
       "border_left": null,
       "border_right": null,
       "border_top": null,
       "bottom": null,
       "display": null,
       "flex": null,
       "flex_flow": null,
       "grid_area": null,
       "grid_auto_columns": null,
       "grid_auto_flow": null,
       "grid_auto_rows": null,
       "grid_column": null,
       "grid_gap": null,
       "grid_row": null,
       "grid_template_areas": null,
       "grid_template_columns": null,
       "grid_template_rows": null,
       "height": null,
       "justify_content": null,
       "justify_items": null,
       "left": null,
       "margin": null,
       "max_height": null,
       "max_width": null,
       "min_height": null,
       "min_width": null,
       "object_fit": null,
       "object_position": null,
       "order": null,
       "overflow": null,
       "padding": null,
       "right": null,
       "top": null,
       "visibility": null,
       "width": null
      }
     },
     "25ebb04db84f4e5dad8fabb2305eb860": {
      "model_module": "@jupyter-widgets/controls",
      "model_module_version": "2.0.0",
      "model_name": "HTMLModel",
      "state": {
       "_dom_classes": [],
       "_model_module": "@jupyter-widgets/controls",
       "_model_module_version": "2.0.0",
       "_model_name": "HTMLModel",
       "_view_count": null,
       "_view_module": "@jupyter-widgets/controls",
       "_view_module_version": "2.0.0",
       "_view_name": "HTMLView",
       "description": "",
       "description_allow_html": false,
       "layout": "IPY_MODEL_afbd8fe29033440caabae88b5e715025",
       "placeholder": "​",
       "style": "IPY_MODEL_ccdeed284d5a4b15ba3f733489654f39",
       "tabbable": null,
       "tooltip": null,
       "value": " 2/2 [00:02&lt;00:00,  1.17s/it]"
      }
     },
     "31baff916cc445b98e9b58762d4d961b": {
      "model_module": "@jupyter-widgets/base",
      "model_module_version": "2.0.0",
      "model_name": "LayoutModel",
      "state": {
       "_model_module": "@jupyter-widgets/base",
       "_model_module_version": "2.0.0",
       "_model_name": "LayoutModel",
       "_view_count": null,
       "_view_module": "@jupyter-widgets/base",
       "_view_module_version": "2.0.0",
       "_view_name": "LayoutView",
       "align_content": null,
       "align_items": null,
       "align_self": null,
       "border_bottom": null,
       "border_left": null,
       "border_right": null,
       "border_top": null,
       "bottom": null,
       "display": null,
       "flex": null,
       "flex_flow": null,
       "grid_area": null,
       "grid_auto_columns": null,
       "grid_auto_flow": null,
       "grid_auto_rows": null,
       "grid_column": null,
       "grid_gap": null,
       "grid_row": null,
       "grid_template_areas": null,
       "grid_template_columns": null,
       "grid_template_rows": null,
       "height": null,
       "justify_content": null,
       "justify_items": null,
       "left": null,
       "margin": null,
       "max_height": null,
       "max_width": null,
       "min_height": null,
       "min_width": null,
       "object_fit": null,
       "object_position": null,
       "order": null,
       "overflow": null,
       "padding": null,
       "right": null,
       "top": null,
       "visibility": null,
       "width": null
      }
     },
     "3481aaed5742416a8734446a5b5f0497": {
      "model_module": "@jupyter-widgets/controls",
      "model_module_version": "2.0.0",
      "model_name": "HTMLModel",
      "state": {
       "_dom_classes": [],
       "_model_module": "@jupyter-widgets/controls",
       "_model_module_version": "2.0.0",
       "_model_name": "HTMLModel",
       "_view_count": null,
       "_view_module": "@jupyter-widgets/controls",
       "_view_module_version": "2.0.0",
       "_view_name": "HTMLView",
       "description": "",
       "description_allow_html": false,
       "layout": "IPY_MODEL_c634889c43b64840a96612f19a4d5237",
       "placeholder": "​",
       "style": "IPY_MODEL_9e0ea14511524ece8fc137b57b79bf44",
       "tabbable": null,
       "tooltip": null,
       "value": " 2/2 [00:59&lt;00:00, 24.65s/it]"
      }
     },
     "49c42be82a8341749a1584ca2f9a25b1": {
      "model_module": "@jupyter-widgets/controls",
      "model_module_version": "2.0.0",
      "model_name": "HTMLModel",
      "state": {
       "_dom_classes": [],
       "_model_module": "@jupyter-widgets/controls",
       "_model_module_version": "2.0.0",
       "_model_name": "HTMLModel",
       "_view_count": null,
       "_view_module": "@jupyter-widgets/controls",
       "_view_module_version": "2.0.0",
       "_view_name": "HTMLView",
       "description": "",
       "description_allow_html": false,
       "layout": "IPY_MODEL_4e8cb0b005034baab21e335004bda8c6",
       "placeholder": "​",
       "style": "IPY_MODEL_cf4b484f4ef04e91bf4f5c5641aef0f1",
       "tabbable": null,
       "tooltip": null,
       "value": "Loading checkpoint shards: 100%"
      }
     },
     "4bef505acd884c008c9deb7e51fd386c": {
      "model_module": "@jupyter-widgets/base",
      "model_module_version": "2.0.0",
      "model_name": "LayoutModel",
      "state": {
       "_model_module": "@jupyter-widgets/base",
       "_model_module_version": "2.0.0",
       "_model_name": "LayoutModel",
       "_view_count": null,
       "_view_module": "@jupyter-widgets/base",
       "_view_module_version": "2.0.0",
       "_view_name": "LayoutView",
       "align_content": null,
       "align_items": null,
       "align_self": null,
       "border_bottom": null,
       "border_left": null,
       "border_right": null,
       "border_top": null,
       "bottom": null,
       "display": null,
       "flex": null,
       "flex_flow": null,
       "grid_area": null,
       "grid_auto_columns": null,
       "grid_auto_flow": null,
       "grid_auto_rows": null,
       "grid_column": null,
       "grid_gap": null,
       "grid_row": null,
       "grid_template_areas": null,
       "grid_template_columns": null,
       "grid_template_rows": null,
       "height": null,
       "justify_content": null,
       "justify_items": null,
       "left": null,
       "margin": null,
       "max_height": null,
       "max_width": null,
       "min_height": null,
       "min_width": null,
       "object_fit": null,
       "object_position": null,
       "order": null,
       "overflow": null,
       "padding": null,
       "right": null,
       "top": null,
       "visibility": null,
       "width": null
      }
     },
     "4e8cb0b005034baab21e335004bda8c6": {
      "model_module": "@jupyter-widgets/base",
      "model_module_version": "2.0.0",
      "model_name": "LayoutModel",
      "state": {
       "_model_module": "@jupyter-widgets/base",
       "_model_module_version": "2.0.0",
       "_model_name": "LayoutModel",
       "_view_count": null,
       "_view_module": "@jupyter-widgets/base",
       "_view_module_version": "2.0.0",
       "_view_name": "LayoutView",
       "align_content": null,
       "align_items": null,
       "align_self": null,
       "border_bottom": null,
       "border_left": null,
       "border_right": null,
       "border_top": null,
       "bottom": null,
       "display": null,
       "flex": null,
       "flex_flow": null,
       "grid_area": null,
       "grid_auto_columns": null,
       "grid_auto_flow": null,
       "grid_auto_rows": null,
       "grid_column": null,
       "grid_gap": null,
       "grid_row": null,
       "grid_template_areas": null,
       "grid_template_columns": null,
       "grid_template_rows": null,
       "height": null,
       "justify_content": null,
       "justify_items": null,
       "left": null,
       "margin": null,
       "max_height": null,
       "max_width": null,
       "min_height": null,
       "min_width": null,
       "object_fit": null,
       "object_position": null,
       "order": null,
       "overflow": null,
       "padding": null,
       "right": null,
       "top": null,
       "visibility": null,
       "width": null
      }
     },
     "54e476ea6ef64710ba9b218161246c32": {
      "model_module": "@jupyter-widgets/controls",
      "model_module_version": "2.0.0",
      "model_name": "ProgressStyleModel",
      "state": {
       "_model_module": "@jupyter-widgets/controls",
       "_model_module_version": "2.0.0",
       "_model_name": "ProgressStyleModel",
       "_view_count": null,
       "_view_module": "@jupyter-widgets/base",
       "_view_module_version": "2.0.0",
       "_view_name": "StyleView",
       "bar_color": null,
       "description_width": ""
      }
     },
     "5c022ecf74be4cb3a548ba82f621c6f2": {
      "model_module": "@jupyter-widgets/base",
      "model_module_version": "2.0.0",
      "model_name": "LayoutModel",
      "state": {
       "_model_module": "@jupyter-widgets/base",
       "_model_module_version": "2.0.0",
       "_model_name": "LayoutModel",
       "_view_count": null,
       "_view_module": "@jupyter-widgets/base",
       "_view_module_version": "2.0.0",
       "_view_name": "LayoutView",
       "align_content": null,
       "align_items": null,
       "align_self": null,
       "border_bottom": null,
       "border_left": null,
       "border_right": null,
       "border_top": null,
       "bottom": null,
       "display": null,
       "flex": null,
       "flex_flow": null,
       "grid_area": null,
       "grid_auto_columns": null,
       "grid_auto_flow": null,
       "grid_auto_rows": null,
       "grid_column": null,
       "grid_gap": null,
       "grid_row": null,
       "grid_template_areas": null,
       "grid_template_columns": null,
       "grid_template_rows": null,
       "height": null,
       "justify_content": null,
       "justify_items": null,
       "left": null,
       "margin": null,
       "max_height": null,
       "max_width": null,
       "min_height": null,
       "min_width": null,
       "object_fit": null,
       "object_position": null,
       "order": null,
       "overflow": null,
       "padding": null,
       "right": null,
       "top": null,
       "visibility": null,
       "width": null
      }
     },
     "660138f7060a46fa8ab06720eb78d121": {
      "model_module": "@jupyter-widgets/controls",
      "model_module_version": "2.0.0",
      "model_name": "HTMLStyleModel",
      "state": {
       "_model_module": "@jupyter-widgets/controls",
       "_model_module_version": "2.0.0",
       "_model_name": "HTMLStyleModel",
       "_view_count": null,
       "_view_module": "@jupyter-widgets/base",
       "_view_module_version": "2.0.0",
       "_view_name": "StyleView",
       "background": null,
       "description_width": "",
       "font_size": null,
       "text_color": null
      }
     },
     "8a14a8febf4a4885a97754e4e1b81409": {
      "model_module": "@jupyter-widgets/base",
      "model_module_version": "2.0.0",
      "model_name": "LayoutModel",
      "state": {
       "_model_module": "@jupyter-widgets/base",
       "_model_module_version": "2.0.0",
       "_model_name": "LayoutModel",
       "_view_count": null,
       "_view_module": "@jupyter-widgets/base",
       "_view_module_version": "2.0.0",
       "_view_name": "LayoutView",
       "align_content": null,
       "align_items": null,
       "align_self": null,
       "border_bottom": null,
       "border_left": null,
       "border_right": null,
       "border_top": null,
       "bottom": null,
       "display": null,
       "flex": null,
       "flex_flow": null,
       "grid_area": null,
       "grid_auto_columns": null,
       "grid_auto_flow": null,
       "grid_auto_rows": null,
       "grid_column": null,
       "grid_gap": null,
       "grid_row": null,
       "grid_template_areas": null,
       "grid_template_columns": null,
       "grid_template_rows": null,
       "height": null,
       "justify_content": null,
       "justify_items": null,
       "left": null,
       "margin": null,
       "max_height": null,
       "max_width": null,
       "min_height": null,
       "min_width": null,
       "object_fit": null,
       "object_position": null,
       "order": null,
       "overflow": null,
       "padding": null,
       "right": null,
       "top": null,
       "visibility": null,
       "width": null
      }
     },
     "9e0ea14511524ece8fc137b57b79bf44": {
      "model_module": "@jupyter-widgets/controls",
      "model_module_version": "2.0.0",
      "model_name": "HTMLStyleModel",
      "state": {
       "_model_module": "@jupyter-widgets/controls",
       "_model_module_version": "2.0.0",
       "_model_name": "HTMLStyleModel",
       "_view_count": null,
       "_view_module": "@jupyter-widgets/base",
       "_view_module_version": "2.0.0",
       "_view_name": "StyleView",
       "background": null,
       "description_width": "",
       "font_size": null,
       "text_color": null
      }
     },
     "afbd8fe29033440caabae88b5e715025": {
      "model_module": "@jupyter-widgets/base",
      "model_module_version": "2.0.0",
      "model_name": "LayoutModel",
      "state": {
       "_model_module": "@jupyter-widgets/base",
       "_model_module_version": "2.0.0",
       "_model_name": "LayoutModel",
       "_view_count": null,
       "_view_module": "@jupyter-widgets/base",
       "_view_module_version": "2.0.0",
       "_view_name": "LayoutView",
       "align_content": null,
       "align_items": null,
       "align_self": null,
       "border_bottom": null,
       "border_left": null,
       "border_right": null,
       "border_top": null,
       "bottom": null,
       "display": null,
       "flex": null,
       "flex_flow": null,
       "grid_area": null,
       "grid_auto_columns": null,
       "grid_auto_flow": null,
       "grid_auto_rows": null,
       "grid_column": null,
       "grid_gap": null,
       "grid_row": null,
       "grid_template_areas": null,
       "grid_template_columns": null,
       "grid_template_rows": null,
       "height": null,
       "justify_content": null,
       "justify_items": null,
       "left": null,
       "margin": null,
       "max_height": null,
       "max_width": null,
       "min_height": null,
       "min_width": null,
       "object_fit": null,
       "object_position": null,
       "order": null,
       "overflow": null,
       "padding": null,
       "right": null,
       "top": null,
       "visibility": null,
       "width": null
      }
     },
     "b696167aeee64079a02f8a0e755a57e9": {
      "model_module": "@jupyter-widgets/controls",
      "model_module_version": "2.0.0",
      "model_name": "HBoxModel",
      "state": {
       "_dom_classes": [],
       "_model_module": "@jupyter-widgets/controls",
       "_model_module_version": "2.0.0",
       "_model_name": "HBoxModel",
       "_view_count": null,
       "_view_module": "@jupyter-widgets/controls",
       "_view_module_version": "2.0.0",
       "_view_name": "HBoxView",
       "box_style": "",
       "children": [
        "IPY_MODEL_c8afb01b67894121bc44fb258923a051",
        "IPY_MODEL_d220d0ee1bf2439f85f1803884b0379d",
        "IPY_MODEL_3481aaed5742416a8734446a5b5f0497"
       ],
       "layout": "IPY_MODEL_0f326f795f0f4e4fa65d9674e529ac91",
       "tabbable": null,
       "tooltip": null
      }
     },
     "bae48d2b4a9143a299ff656f9b8da1e5": {
      "model_module": "@jupyter-widgets/controls",
      "model_module_version": "2.0.0",
      "model_name": "FloatProgressModel",
      "state": {
       "_dom_classes": [],
       "_model_module": "@jupyter-widgets/controls",
       "_model_module_version": "2.0.0",
       "_model_name": "FloatProgressModel",
       "_view_count": null,
       "_view_module": "@jupyter-widgets/controls",
       "_view_module_version": "2.0.0",
       "_view_name": "ProgressView",
       "bar_style": "success",
       "description": "",
       "description_allow_html": false,
       "layout": "IPY_MODEL_5c022ecf74be4cb3a548ba82f621c6f2",
       "max": 2.0,
       "min": 0.0,
       "orientation": "horizontal",
       "style": "IPY_MODEL_06d204a9245a4b509088e5eb618d5951",
       "tabbable": null,
       "tooltip": null,
       "value": 2.0
      }
     },
     "c3126f2f28914a429fe8b909c23b4436": {
      "model_module": "@jupyter-widgets/controls",
      "model_module_version": "2.0.0",
      "model_name": "HBoxModel",
      "state": {
       "_dom_classes": [],
       "_model_module": "@jupyter-widgets/controls",
       "_model_module_version": "2.0.0",
       "_model_name": "HBoxModel",
       "_view_count": null,
       "_view_module": "@jupyter-widgets/controls",
       "_view_module_version": "2.0.0",
       "_view_name": "HBoxView",
       "box_style": "",
       "children": [
        "IPY_MODEL_49c42be82a8341749a1584ca2f9a25b1",
        "IPY_MODEL_bae48d2b4a9143a299ff656f9b8da1e5",
        "IPY_MODEL_25ebb04db84f4e5dad8fabb2305eb860"
       ],
       "layout": "IPY_MODEL_4bef505acd884c008c9deb7e51fd386c",
       "tabbable": null,
       "tooltip": null
      }
     },
     "c634889c43b64840a96612f19a4d5237": {
      "model_module": "@jupyter-widgets/base",
      "model_module_version": "2.0.0",
      "model_name": "LayoutModel",
      "state": {
       "_model_module": "@jupyter-widgets/base",
       "_model_module_version": "2.0.0",
       "_model_name": "LayoutModel",
       "_view_count": null,
       "_view_module": "@jupyter-widgets/base",
       "_view_module_version": "2.0.0",
       "_view_name": "LayoutView",
       "align_content": null,
       "align_items": null,
       "align_self": null,
       "border_bottom": null,
       "border_left": null,
       "border_right": null,
       "border_top": null,
       "bottom": null,
       "display": null,
       "flex": null,
       "flex_flow": null,
       "grid_area": null,
       "grid_auto_columns": null,
       "grid_auto_flow": null,
       "grid_auto_rows": null,
       "grid_column": null,
       "grid_gap": null,
       "grid_row": null,
       "grid_template_areas": null,
       "grid_template_columns": null,
       "grid_template_rows": null,
       "height": null,
       "justify_content": null,
       "justify_items": null,
       "left": null,
       "margin": null,
       "max_height": null,
       "max_width": null,
       "min_height": null,
       "min_width": null,
       "object_fit": null,
       "object_position": null,
       "order": null,
       "overflow": null,
       "padding": null,
       "right": null,
       "top": null,
       "visibility": null,
       "width": null
      }
     },
     "c8afb01b67894121bc44fb258923a051": {
      "model_module": "@jupyter-widgets/controls",
      "model_module_version": "2.0.0",
      "model_name": "HTMLModel",
      "state": {
       "_dom_classes": [],
       "_model_module": "@jupyter-widgets/controls",
       "_model_module_version": "2.0.0",
       "_model_name": "HTMLModel",
       "_view_count": null,
       "_view_module": "@jupyter-widgets/controls",
       "_view_module_version": "2.0.0",
       "_view_name": "HTMLView",
       "description": "",
       "description_allow_html": false,
       "layout": "IPY_MODEL_31baff916cc445b98e9b58762d4d961b",
       "placeholder": "​",
       "style": "IPY_MODEL_660138f7060a46fa8ab06720eb78d121",
       "tabbable": null,
       "tooltip": null,
       "value": "Loading checkpoint shards: 100%"
      }
     },
     "ccdeed284d5a4b15ba3f733489654f39": {
      "model_module": "@jupyter-widgets/controls",
      "model_module_version": "2.0.0",
      "model_name": "HTMLStyleModel",
      "state": {
       "_model_module": "@jupyter-widgets/controls",
       "_model_module_version": "2.0.0",
       "_model_name": "HTMLStyleModel",
       "_view_count": null,
       "_view_module": "@jupyter-widgets/base",
       "_view_module_version": "2.0.0",
       "_view_name": "StyleView",
       "background": null,
       "description_width": "",
       "font_size": null,
       "text_color": null
      }
     },
     "cf4b484f4ef04e91bf4f5c5641aef0f1": {
      "model_module": "@jupyter-widgets/controls",
      "model_module_version": "2.0.0",
      "model_name": "HTMLStyleModel",
      "state": {
       "_model_module": "@jupyter-widgets/controls",
       "_model_module_version": "2.0.0",
       "_model_name": "HTMLStyleModel",
       "_view_count": null,
       "_view_module": "@jupyter-widgets/base",
       "_view_module_version": "2.0.0",
       "_view_name": "StyleView",
       "background": null,
       "description_width": "",
       "font_size": null,
       "text_color": null
      }
     },
     "d220d0ee1bf2439f85f1803884b0379d": {
      "model_module": "@jupyter-widgets/controls",
      "model_module_version": "2.0.0",
      "model_name": "FloatProgressModel",
      "state": {
       "_dom_classes": [],
       "_model_module": "@jupyter-widgets/controls",
       "_model_module_version": "2.0.0",
       "_model_name": "FloatProgressModel",
       "_view_count": null,
       "_view_module": "@jupyter-widgets/controls",
       "_view_module_version": "2.0.0",
       "_view_name": "ProgressView",
       "bar_style": "success",
       "description": "",
       "description_allow_html": false,
       "layout": "IPY_MODEL_8a14a8febf4a4885a97754e4e1b81409",
       "max": 2.0,
       "min": 0.0,
       "orientation": "horizontal",
       "style": "IPY_MODEL_54e476ea6ef64710ba9b218161246c32",
       "tabbable": null,
       "tooltip": null,
       "value": 2.0
      }
     }
    },
    "version_major": 2,
    "version_minor": 0
   }
  }
 },
 "nbformat": 4,
 "nbformat_minor": 5
}
